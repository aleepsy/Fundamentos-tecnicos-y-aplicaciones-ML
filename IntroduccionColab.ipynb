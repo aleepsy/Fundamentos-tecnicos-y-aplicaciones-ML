{
  "nbformat": 4,
  "nbformat_minor": 0,
  "metadata": {
    "colab": {
      "name": "S2_IntroduccionColab.ipynb",
      "provenance": [],
      "collapsed_sections": [],
      "include_colab_link": true
    },
    "kernelspec": {
      "name": "python3",
      "display_name": "Python 3"
    },
    "language_info": {
      "name": "python"
    }
  },
  "cells": [
    {
      "cell_type": "markdown",
      "metadata": {
        "id": "view-in-github",
        "colab_type": "text"
      },
      "source": [
        "<a href=\"https://colab.research.google.com/github/aleepsy/Fundamentos-tecnicos-y-aplicaciones-ML/blob/main/IntroduccionColab.ipynb\" target=\"_parent\"><img src=\"https://colab.research.google.com/assets/colab-badge.svg\" alt=\"Open In Colab\"/></a>"
      ]
    },
    {
      "cell_type": "markdown",
      "source": [
        "REGRESAMOS EN 10 MINUTOS: Es momenot de explorar COLAB"
      ],
      "metadata": {
        "id": "0HkiGnd89OsW"
      }
    },
    {
      "cell_type": "markdown",
      "metadata": {
        "id": "v66jR6ru64NO"
      },
      "source": [
        "## **Introducción a Google Colab**\n",
        "\n",
        "* Para ejecutar nuestro código de Python usaremos *notebooks* de Jupyter. Jupyter Notebook es una aplicación web de código abierto que puedes usar para crear y compartir documentos que contienen código, ecuaciones, visualizaciones y texto.\n",
        "\n",
        "* En este curso, todas las notebooks están en *Collaboratory* (también conocido como Colab). Colab es un entorno gratuito para Notebooks de Jupyter que se ejecuta en la nube y almacena las Notebooks en Google Drive. \n",
        "\n",
        "* Esta notebook tiene el objetivo de que conozcas la herramienta y la uses para ejecutar algunas líneas de código de Python.\n",
        "\n",
        "**Happy coding !**\n",
        "\n",
        "Hecho con 💗 por alan@machinelearningenespanol.com"
      ]
    },
    {
      "cell_type": "markdown",
      "metadata": {
        "id": "elNNkNoP6-Xg"
      },
      "source": [
        "\n",
        "\n",
        "---\n",
        "\n",
        "\n",
        "Te doy la bienvenida a este Colab 🙋‍♂️ donde se te presenta una introducción rápida al entorno utilizado para los ejercicios del curso: Colab.\n",
        "\n",
        "Colab es un entorno de desarrollo de Python que se ejecuta en el navegador usando Google Cloud. Colab es gratuito."
      ]
    },
    {
      "cell_type": "markdown",
      "metadata": {
        "id": "hfNG4aRz_8Tn"
      },
      "source": [
        "**Cómo iniciar a programar en Python: Introducción a Google Collaboratory 💻**\n",
        "\n",
        "Existen muchos entornos de desarollo. IDE por sus siglas en inglés (Integrated Development Environment).\n",
        "\n",
        "* Podemos pensar 💭 en un IDE como el *programa* que usamos para programar.\n",
        "\n",
        "\n",
        "---\n",
        "\n",
        "**Pongamos una analogía:**\n",
        "\n",
        " * Si escribimos un texto 📄, ¿qué programas podemos usar?\n",
        "\n",
        " * Si escribimos código en Python 🐍, ¿qué programas podemos usar?\n",
        "\n",
        "\n",
        " ¿Cuál es el mejor?\n",
        " - El criterio más acertado para decidir es el más pragmático"
      ]
    },
    {
      "cell_type": "markdown",
      "metadata": {
        "id": "Sio9qNlwZGaR"
      },
      "source": [
        "**Hablemos de Google Colaboratory**\n",
        "\n",
        "* También llamado Google Colab o simplemente colab.\n",
        "* Es una herramienta de Google en la nube para ejecutar código en Python y crear modelos de Machine Learning a través de la nube de Google y con la posibilidad de hacer uso de sus GPU 🖥️.\n",
        "* La principal ventaja que ofrece esta herramienta es que libera a nuestra máquina de tener que llevar a cabo un trabajo demasiado costoso tanto en tiempo como en potencia o incluso nos permite realizar ese trabajo si nuestra máquina no cuenta con recursos suficientemente potentes. Y todo de forma gratuita 🤑.\n",
        "* Otro de los beneficios que tiene lo indica el propio nombre, «Colaboratory», es decir, colaborativo, nos permite realizar tareas en la nube y compartir nuestros cuadernos si necesitamos trabajar en equipo 🧑🏽‍🤝‍🧑🏿.\n"
      ]
    },
    {
      "cell_type": "markdown",
      "metadata": {
        "id": "hsa4Twy9aAF4"
      },
      "source": [
        "**Google Colaboratory es un entorno gratuito de Jupyter Notebook que no requiere configuración y que se ejecuta completamente en la nube**\n",
        "\n",
        "\n",
        "Un cuaderno está compuesto por celdas.\n",
        "\n",
        "* Una celda es la unidad mínima de ejecución dentro de un cuaderno, es decir, es donde incluimos nuestro código y lo ejecutamos.\n",
        "* Para ejecutar una celda podemos pulsar el botón con el icono de Play que se encuentra a la izquierda o pulsando Ctrl+Enter (ejecutar celda) o Shift+Enter (ejecutar celda y saltar a la siguiente)."
      ]
    },
    {
      "cell_type": "markdown",
      "metadata": {
        "id": "cDsy76yQbcL_"
      },
      "source": [
        "* Cuando creamos un nuevo cuaderno, este es «estático», es decir, vemos su contenido, pero no estamos conectados a ningún entorno de ejecución.\n",
        "* Nuestro cuaderno se conecta a una VM de Google Compute Engine (la infraestructura de máquinas virtuales de Google en la nube) cuando ejecutamos una celda o pulsamos sobre el botón de «Conectar». Al hacerlo, el cuaderno toma un momento en conectarse y después muestra, de ahí en adelante, el espacio de RAM y disco que estamos consumiendo.\n",
        "* La máquina en un inicio cuenta con 12 GB de RAM y 50 GB de almancenamiento en disco disponibles para el uso."
      ]
    },
    {
      "cell_type": "markdown",
      "metadata": {
        "id": "1NfYeqf17yGu"
      },
      "source": [
        "\n",
        "\n",
        "---\n",
        "\n",
        "\n",
        "**Iniciemos**\n",
        "\n",
        "\n",
        "\n",
        "*   Una notebook está dividida en celdas. Cada celda puede contener texto o código.\n",
        "*  Para ejecutar una celda, haz click en los corchete [ ] que aparecen a la izquierda de la celda.\n",
        "* También puedes ejecutar una celda haciendo click en ella para seleccionarla; cambiará de color. Después presiona shift-enter para ejecutarla.\n",
        "\n",
        "![](https://drive.google.com/uc?id=1PtVTLAnF62gTNzQ8LKTDhPdcc3XCgC3m)\n"
      ]
    },
    {
      "cell_type": "markdown",
      "metadata": {
        "id": "km_5nSFlFZzQ"
      },
      "source": [
        "**Iniciemos**"
      ]
    },
    {
      "cell_type": "code",
      "metadata": {
        "colab": {
          "base_uri": "https://localhost:8080/"
        },
        "id": "w7W4kXMRFaJY",
        "outputId": "fe125daf-b8ba-4424-ed6c-cd86013f2fc3"
      },
      "source": [
        "print(\"Hola, Mundo\") # En Python el texto (cadenas de texto - en inglés string) se indican con comillas dobles (\"texto\")\n",
        "                     # o simples ('')\n",
        "                     # Este es un comentario"
      ],
      "execution_count": null,
      "outputs": [
        {
          "output_type": "stream",
          "name": "stdout",
          "text": [
            "Hola, Mundo\n"
          ]
        }
      ]
    },
    {
      "cell_type": "markdown",
      "metadata": {
        "id": "8N0xCynLJOd2"
      },
      "source": [
        "# Tipos de datos\n",
        "\n",
        "\n",
        "\n",
        "*   Enteros => 1, 2, 3, -10, 0\n",
        "*   flotantes => -0.5, 3.8, 4.7\n",
        "*   Cadenas de caracteres => Hola Mundo, Saludos, Adios\n",
        "\n",
        "\n"
      ]
    },
    {
      "cell_type": "code",
      "metadata": {
        "id": "SE_UQLDtM8cq"
      },
      "source": [
        "suma = 0"
      ],
      "execution_count": null,
      "outputs": []
    },
    {
      "cell_type": "code",
      "metadata": {
        "colab": {
          "base_uri": "https://localhost:8080/"
        },
        "id": "NL0MOiu2M-lm",
        "outputId": "5d7133e2-45a2-4ddc-e337-f996eddfddb1"
      },
      "source": [
        "type(suma)"
      ],
      "execution_count": null,
      "outputs": [
        {
          "output_type": "execute_result",
          "data": {
            "text/plain": [
              "float"
            ]
          },
          "metadata": {
            "tags": []
          },
          "execution_count": 14
        }
      ]
    },
    {
      "cell_type": "code",
      "metadata": {
        "id": "YQtkNhuCIp2c"
      },
      "source": [
        "int1 = 5\n",
        "float1 = 3.5\n",
        "suma = int1 + float1"
      ],
      "execution_count": null,
      "outputs": []
    },
    {
      "cell_type": "code",
      "metadata": {
        "colab": {
          "base_uri": "https://localhost:8080/"
        },
        "id": "3pw7-slJLtWP",
        "outputId": "886799a0-7f1b-4c80-8e48-7e6114916ec2"
      },
      "source": [
        "type(suma)"
      ],
      "execution_count": null,
      "outputs": [
        {
          "output_type": "execute_result",
          "data": {
            "text/plain": [
              "float"
            ]
          },
          "metadata": {
            "tags": []
          },
          "execution_count": 13
        }
      ]
    },
    {
      "cell_type": "markdown",
      "metadata": {
        "id": "CbH2KmKINk5Q"
      },
      "source": [
        "**Variables**\n",
        "\n",
        "Elemento que me permite almacenar un dato/datos\n",
        "\n",
        "* Identificador de variable (o nombre de variable) = valor(dato/datos)\n",
        "* Donde el símbolo \"=\" es el operador de asignación\n",
        "* Python es de tipado dinámico. Es decir, no me importa decirle al intérprete cuánta memoria usar para codificar el valor; Python lo hace de forma automática."
      ]
    },
    {
      "cell_type": "code",
      "metadata": {
        "colab": {
          "base_uri": "https://localhost:8080/"
        },
        "id": "X3EJQzWVLwFK",
        "outputId": "ee6cdda4-5d5a-4063-93c9-40e904361767"
      },
      "source": [
        "var = 1+3\n",
        "print(var)"
      ],
      "execution_count": null,
      "outputs": [
        {
          "output_type": "stream",
          "text": [
            "4\n"
          ],
          "name": "stdout"
        }
      ]
    },
    {
      "cell_type": "markdown",
      "metadata": {
        "id": "-dgKBUIZOtqQ"
      },
      "source": [
        "**En Python, la estructura secuencial**\n",
        "\n",
        "* Indica que el intérprete ejecuta las líneas de código de arriba hacia abajo\n",
        "\n"
      ]
    },
    {
      "cell_type": "code",
      "metadata": {
        "colab": {
          "base_uri": "https://localhost:8080/"
        },
        "id": "WpiOcB4NOLKC",
        "outputId": "2eeb93ed-ceaf-40e1-809d-3607886610a5"
      },
      "source": [
        "print(var2) # Este es un comentario. Texto que es ignorado por el intérprete\n",
        "var2 = 7  # Error !!! Primero debe definirse la variable var2"
      ],
      "execution_count": null,
      "outputs": [
        {
          "output_type": "stream",
          "text": [
            "7\n"
          ],
          "name": "stdout"
        }
      ]
    },
    {
      "cell_type": "code",
      "metadata": {
        "id": "e-xSEBGmOiHF"
      },
      "source": [
        "# Este es un comentario. Texto que es ignorado por el intérprete"
      ],
      "execution_count": null,
      "outputs": []
    },
    {
      "cell_type": "markdown",
      "metadata": {
        "id": "csZYhwUPSZtG"
      },
      "source": [
        "**Ejemplos de Operadores Binarios**\n",
        "\n",
        "\n",
        "*   \\+ SUMA\n",
        "*   \\- RESTA\n",
        "* \\* MULTIPLICACIÓN\n",
        "* / DIVISIÓN\n"
      ]
    },
    {
      "cell_type": "code",
      "metadata": {
        "colab": {
          "base_uri": "https://localhost:8080/"
        },
        "id": "de85UoPaSO6o",
        "outputId": "44e38bfc-9752-4d88-f409-e3aa8f6f237c"
      },
      "source": [
        "suma = 5+2\n",
        "print(suma)"
      ],
      "execution_count": null,
      "outputs": [
        {
          "output_type": "stream",
          "text": [
            "15\n"
          ],
          "name": "stdout"
        }
      ]
    },
    {
      "cell_type": "code",
      "metadata": {
        "colab": {
          "base_uri": "https://localhost:8080/"
        },
        "id": "dkNM911nS24T",
        "outputId": "424c070e-cee0-439f-89c1-75b174d8fd4d"
      },
      "source": [
        "resta = 5-2\n",
        "print(resta)"
      ],
      "execution_count": null,
      "outputs": [
        {
          "output_type": "stream",
          "text": [
            "3\n"
          ],
          "name": "stdout"
        }
      ]
    },
    {
      "cell_type": "code",
      "metadata": {
        "colab": {
          "base_uri": "https://localhost:8080/"
        },
        "id": "4A14wRbZS-cz",
        "outputId": "421fda4a-56e7-47c6-9382-80ca370a0dd0"
      },
      "source": [
        "multiplicacion = 8*2\n",
        "print(multiplicacion)"
      ],
      "execution_count": null,
      "outputs": [
        {
          "output_type": "stream",
          "text": [
            "16\n"
          ],
          "name": "stdout"
        }
      ]
    },
    {
      "cell_type": "code",
      "metadata": {
        "colab": {
          "base_uri": "https://localhost:8080/"
        },
        "id": "WYctlZg0TFKG",
        "outputId": "cca181b3-7f40-4c3d-e478-1e7b9414992d"
      },
      "source": [
        "division = 32/8\n",
        "print(division)"
      ],
      "execution_count": null,
      "outputs": [
        {
          "output_type": "stream",
          "text": [
            "4.0\n"
          ],
          "name": "stdout"
        }
      ]
    },
    {
      "cell_type": "markdown",
      "source": [
        "**Ejercicios**\n",
        "\n",
        "1. Identifica el tipo de dato\n",
        "\n",
        "```python\n",
        "\n",
        "\"Hola Mundo\"     \n",
        "[1, 10, 100]      \n",
        "-25              \n",
        "1.167             \n",
        "[\"Hola\", \"Mundo\"]\n",
        "' '\n",
        "```"
      ],
      "metadata": {
        "id": "7LWRC8EDvtPp"
      }
    },
    {
      "cell_type": "code",
      "metadata": {
        "id": "Dez3N538TJe1"
      },
      "source": [
        ""
      ],
      "execution_count": null,
      "outputs": []
    },
    {
      "cell_type": "markdown",
      "source": [
        "\n",
        "2. Determina mentalmente (sin programar) el resultado que aparecerá por pantalla en las siguientes operaciones con variables:\n",
        "\n",
        "```python\n",
        "a = 10\n",
        "b = -5\n",
        "c = \"Hola \"\n",
        "d = [1, 2, 3] \n",
        "\n",
        "print(a * 5)\n",
        "print(a - b)\n",
        "print(c + \"Mundo\")\n",
        "print(c * 2)\n",
        "print(d[-1])\n",
        "print(d[1:])\n",
        "print(d + d)  \n",
        "\n",
        "```"
      ],
      "metadata": {
        "id": "RcqCPWyvxZCb"
      }
    },
    {
      "cell_type": "code",
      "source": [
        ""
      ],
      "metadata": {
        "id": "bwIC_O1OxdJl"
      },
      "execution_count": null,
      "outputs": []
    },
    {
      "cell_type": "markdown",
      "source": [
        "3. El siguiente código pretende realizar una media entre 3 números, pero no funciona correctamente. ¿Eres capaz de identificar el problema y solucionarlo?\n",
        "\n",
        "```python\n",
        "\n",
        "numero_1 = 9\n",
        "numero_2 = 3\n",
        "numero_3 = 6\n",
        "\n",
        "media = numero_1 + numero_2 + numero_3 / 3\n",
        "print(\"La nota media es\", media)\n",
        "\n",
        "```"
      ],
      "metadata": {
        "id": "qi7no1Ncxdr3"
      }
    },
    {
      "cell_type": "code",
      "source": [
        ""
      ],
      "metadata": {
        "id": "hcGNkVdZxhbf"
      },
      "execution_count": null,
      "outputs": []
    },
    {
      "cell_type": "markdown",
      "source": [
        "4. A partir del ejercicio anterior, vamos a suponer que cada número es una nota, y lo que queremos es obtener la nota final. El problema es que cada nota tiene un valor porcentual:\n",
        "\n",
        "La primera nota vale un 15% del total\n",
        "La segunda nota vale un 35% del total\n",
        "La tercera nota vale un 50% del total\n",
        "Desarrolla un programa para calcular perfectamente la nota final:"
      ],
      "metadata": {
        "id": "EDpXyqeNxKqm"
      }
    },
    {
      "cell_type": "code",
      "source": [
        "nota_1 = 10\n",
        "nota_2 = 7\n",
        "nota_3 = 4\n",
        "\n",
        "# Completa el ejercicio aquí"
      ],
      "metadata": {
        "id": "TngwOlCBxTyl"
      },
      "execution_count": null,
      "outputs": []
    }
  ]
}